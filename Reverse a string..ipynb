{
 "cells": [
  {
   "cell_type": "markdown",
   "id": "17ccaac3",
   "metadata": {},
   "source": [
    "# Write a Python program to reverse a string."
   ]
  },
  {
   "cell_type": "code",
   "execution_count": null,
   "id": "0308b501",
   "metadata": {},
   "outputs": [],
   "source": [
    "# Method 1"
   ]
  },
  {
   "cell_type": "code",
   "execution_count": 7,
   "id": "30548113",
   "metadata": {},
   "outputs": [],
   "source": [
    "def reverse(s):\n",
    "  str = \"\"\n",
    "  for i in s:\n",
    "    str = i + str\n",
    "  return str"
   ]
  },
  {
   "cell_type": "code",
   "execution_count": 8,
   "id": "7b375ea7",
   "metadata": {},
   "outputs": [],
   "source": [
    "s =  \"1234abcd\""
   ]
  },
  {
   "cell_type": "code",
   "execution_count": 28,
   "id": "7c8d4d45",
   "metadata": {},
   "outputs": [
    {
     "name": "stdout",
     "output_type": "stream",
     "text": [
      "sample string : \n",
      "1234abcd\n",
      "reversed string(using loops): \n",
      "dcba4321\n"
     ]
    }
   ],
   "source": [
    "print(\"sample string : \")\n",
    "print(s)  \n",
    "print(\"reversed string(using loops): \")\n",
    "print(reverse(s))"
   ]
  },
  {
   "cell_type": "code",
   "execution_count": 10,
   "id": "444d7b2d",
   "metadata": {},
   "outputs": [],
   "source": [
    "# Method 2"
   ]
  },
  {
   "cell_type": "code",
   "execution_count": 11,
   "id": "789508a9",
   "metadata": {},
   "outputs": [],
   "source": [
    "def reverse(string):\n",
    "    string = string[::-1]\n",
    "    return string"
   ]
  },
  {
   "cell_type": "code",
   "execution_count": 15,
   "id": "54486e99",
   "metadata": {},
   "outputs": [],
   "source": [
    "s = \"1234abcd\""
   ]
  },
  {
   "cell_type": "code",
   "execution_count": 30,
   "id": "d2f9b06c",
   "metadata": {},
   "outputs": [
    {
     "name": "stdout",
     "output_type": "stream",
     "text": [
      "sample string : \n",
      "1234abcd\n",
      "reversed string(using slicing): \n",
      "dcba4321\n"
     ]
    }
   ],
   "source": [
    "print(\"sample string : \")\n",
    "print(s)  \n",
    "print(\"reversed string(using slicing): \")\n",
    "print(reverse(s))"
   ]
  },
  {
   "cell_type": "code",
   "execution_count": null,
   "id": "de18f650",
   "metadata": {},
   "outputs": [],
   "source": []
  }
 ],
 "metadata": {
  "kernelspec": {
   "display_name": "Python 3 (ipykernel)",
   "language": "python",
   "name": "python3"
  },
  "language_info": {
   "codemirror_mode": {
    "name": "ipython",
    "version": 3
   },
   "file_extension": ".py",
   "mimetype": "text/x-python",
   "name": "python",
   "nbconvert_exporter": "python",
   "pygments_lexer": "ipython3",
   "version": "3.9.7"
  }
 },
 "nbformat": 4,
 "nbformat_minor": 5
}

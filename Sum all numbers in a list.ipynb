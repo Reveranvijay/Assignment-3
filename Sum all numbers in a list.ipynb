{
 "cells": [
  {
   "cell_type": "markdown",
   "id": "70ff1d5e",
   "metadata": {},
   "source": [
    " # Write a Python function to sum all the numbers in a list."
   ]
  },
  {
   "cell_type": "markdown",
   "id": "8eaa459c",
   "metadata": {},
   "source": [
    "# Method 1"
   ]
  },
  {
   "cell_type": "code",
   "execution_count": 25,
   "id": "797be1cb",
   "metadata": {},
   "outputs": [],
   "source": [
    "def adder(a,b,c,d,e):\n",
    "    s = a+b+c+d+e\n",
    "    return s"
   ]
  },
  {
   "cell_type": "code",
   "execution_count": 26,
   "id": "5a3b4920",
   "metadata": {},
   "outputs": [
    {
     "data": {
      "text/plain": [
       "20"
      ]
     },
     "execution_count": 26,
     "metadata": {},
     "output_type": "execute_result"
    }
   ],
   "source": [
    "adder(8,2,3,0,7)"
   ]
  },
  {
   "cell_type": "markdown",
   "id": "3a2cca34",
   "metadata": {},
   "source": [
    "# Method 2"
   ]
  },
  {
   "cell_type": "code",
   "execution_count": 20,
   "id": "c510bcf5",
   "metadata": {},
   "outputs": [],
   "source": [
    "def adder(seq):\n",
    "    return sum(seq)"
   ]
  },
  {
   "cell_type": "code",
   "execution_count": 17,
   "id": "8a8caa8f",
   "metadata": {},
   "outputs": [
    {
     "data": {
      "text/plain": [
       "20"
      ]
     },
     "execution_count": 17,
     "metadata": {},
     "output_type": "execute_result"
    }
   ],
   "source": [
    "adder([8,2,3,0,7])"
   ]
  },
  {
   "cell_type": "code",
   "execution_count": null,
   "id": "e5effd8b",
   "metadata": {},
   "outputs": [],
   "source": []
  }
 ],
 "metadata": {
  "kernelspec": {
   "display_name": "Python 3 (ipykernel)",
   "language": "python",
   "name": "python3"
  },
  "language_info": {
   "codemirror_mode": {
    "name": "ipython",
    "version": 3
   },
   "file_extension": ".py",
   "mimetype": "text/x-python",
   "name": "python",
   "nbconvert_exporter": "python",
   "pygments_lexer": "ipython3",
   "version": "3.9.7"
  }
 },
 "nbformat": 4,
 "nbformat_minor": 5
}
